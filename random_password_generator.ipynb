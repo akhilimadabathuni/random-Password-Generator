{
  "nbformat": 4,
  "nbformat_minor": 0,
  "metadata": {
    "colab": {
      "provenance": []
    },
    "kernelspec": {
      "name": "python3",
      "display_name": "Python 3"
    },
    "language_info": {
      "name": "python"
    }
  },
  "cells": [
    {
      "cell_type": "code",
      "source": [
        "# Importing random module\n",
        "import random\n",
        "\n",
        "# Defining the character sets\n",
        "letters = \"abcdefghijklmnopqrstuvwxyzABCDEFGHIJKLMNOPQRSTUVWXYZ\"\n",
        "numbers = \"0123456789\"\n",
        "symbols = \"!@#$%^&*()_+-=[]{};:,./<>?\"\n",
        "\n",
        "# Ask the user for the password length and character preferences\n",
        "length = int(input(\"Enter the password length: \"))\n",
        "use_letters = input(\"Do you want to use letters? (y/n) \")\n",
        "use_numbers = input(\"Do you want to use numbers? (y/n) \")\n",
        "use_symbols = input(\"Do you want to use symbols? (y/n) \")\n",
        "\n",
        "# Create an empty password string\n",
        "password = \"\"\n",
        "\n",
        "# Create a list of possible characters based on the user's preferences\n",
        "possible_chars = \"\"\n",
        "if use_letters == \"y\":\n",
        "  possible_chars += letters\n",
        "if use_numbers == \"y\":\n",
        "  possible_chars += numbers\n",
        "if use_symbols == \"y\":\n",
        "  possible_chars += symbols\n",
        "\n",
        "# Check if the list of possible characters is not empty\n",
        "if possible_chars != \"\":\n",
        "  # Loop for the password length times\n",
        "  for i in range(length):\n",
        "    # Choose a random character from the possible characters and append it to the password\n",
        "    password += random.choice(possible_chars)\n",
        "  # Print the password\n",
        "  print(\"Your password is:\", password)\n",
        "else:\n",
        "  # Print an error message\n",
        "  print(\"You need to choose at least one character type.\")\n"
      ],
      "metadata": {
        "colab": {
          "base_uri": "https://localhost:8080/"
        },
        "id": "5KYjxIDvMwnk",
        "outputId": "ebc3b493-6b0d-47bd-ae05-5ab8ab6ef556"
      },
      "execution_count": null,
      "outputs": [
        {
          "output_type": "stream",
          "name": "stdout",
          "text": [
            "Enter the password length: 6\n",
            "Do you want to use letters? (y/n) y\n",
            "Do you want to use numbers? (y/n) y\n",
            "Do you want to use symbols? (y/n) y\n",
            "Your password is: #W}+[N\n"
          ]
        }
      ]
    }
  ]
}